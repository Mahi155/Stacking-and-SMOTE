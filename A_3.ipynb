{
  "nbformat": 4,
  "nbformat_minor": 0,
  "metadata": {
    "colab": {
      "name": "A-3.ipynb",
      "provenance": [],
      "collapsed_sections": [],
      "machine_shape": "hm"
    },
    "kernelspec": {
      "name": "python3",
      "display_name": "Python 3"
    }
  },
  "cells": [
    {
      "cell_type": "code",
      "metadata": {
        "id": "QcwQ5hdHdllC",
        "colab_type": "code",
        "outputId": "ecc45d30-f804-4d10-bcf7-9c141e80ff0a",
        "colab": {
          "base_uri": "https://localhost:8080/",
          "height": 276
        }
      },
      "source": [
        "!pip install vecstack"
      ],
      "execution_count": 0,
      "outputs": [
        {
          "output_type": "stream",
          "text": [
            "Collecting vecstack\n",
            "  Downloading https://files.pythonhosted.org/packages/d0/a1/b9a1e9e9e5a12078da1ab9788c7885e4c745358f7e57d5f94d9db6a4e898/vecstack-0.4.0.tar.gz\n",
            "Requirement already satisfied: numpy in /usr/local/lib/python3.6/dist-packages (from vecstack) (1.17.3)\n",
            "Requirement already satisfied: scipy in /usr/local/lib/python3.6/dist-packages (from vecstack) (1.3.1)\n",
            "Requirement already satisfied: scikit-learn>=0.18 in /usr/local/lib/python3.6/dist-packages (from vecstack) (0.21.3)\n",
            "Requirement already satisfied: joblib>=0.11 in /usr/local/lib/python3.6/dist-packages (from scikit-learn>=0.18->vecstack) (0.14.0)\n",
            "Building wheels for collected packages: vecstack\n",
            "  Building wheel for vecstack (setup.py) ... \u001b[?25l\u001b[?25hdone\n",
            "  Created wheel for vecstack: filename=vecstack-0.4.0-cp36-none-any.whl size=19879 sha256=9fc6b8fc3df9b00c3cdafc1f4ee0bf162c094a2967ac5b8dc1e0490e0d0aedc7\n",
            "  Stored in directory: /root/.cache/pip/wheels/5f/bb/4e/f6488433d53bc0684673d6845e5bf11a25240577c8151c140e\n",
            "Successfully built vecstack\n",
            "Installing collected packages: vecstack\n",
            "Successfully installed vecstack-0.4.0\n"
          ],
          "name": "stdout"
        }
      ]
    },
    {
      "cell_type": "code",
      "metadata": {
        "id": "eQqGDszCfMbu",
        "colab_type": "code",
        "outputId": "63f07ca6-25ed-429c-c212-6d29f21e75ed",
        "colab": {
          "base_uri": "https://localhost:8080/",
          "height": 74
        }
      },
      "source": [
        "from vecstack import stacking\n",
        "import pandas as pd\n",
        "import numpy as np\n",
        "from sklearn.metrics import accuracy_score #works\n",
        "from sklearn.model_selection import train_test_split\n",
        "from sklearn.ensemble import RandomForestClassifier\n",
        "from sklearn.tree import DecisionTreeClassifier\n",
        "from sklearn.model_selection import GridSearchCV\n",
        "from sklearn.model_selection import RandomizedSearchCV\n",
        "from sklearn.model_selection import cross_val_score\n",
        "from sklearn.metrics import classification_report, confusion_matrix\n",
        "from sklearn.ensemble import GradientBoostingClassifier\n",
        "from sklearn.neural_network import MLPClassifier\n",
        "#from sklearn.ensemble import RandomForestClassifier\n",
        "from imblearn.over_sampling import SMOTE \n",
        "from sklearn.svm import SVC\n",
        "from collections import Counter #for Smote, \n",
        "\n",
        "import warnings\n",
        "warnings.filterwarnings(\"ignore\")\n"
      ],
      "execution_count": 0,
      "outputs": [
        {
          "output_type": "stream",
          "text": [
            "/usr/local/lib/python3.6/dist-packages/sklearn/externals/six.py:31: DeprecationWarning: The module is deprecated in version 0.21 and will be removed in version 0.23 since we've dropped support for Python 2.7. Please rely on the official version of six (https://pypi.org/project/six/).\n",
            "  \"(https://pypi.org/project/six/).\", DeprecationWarning)\n"
          ],
          "name": "stderr"
        }
      ]
    },
    {
      "cell_type": "code",
      "metadata": {
        "id": "1vyZX66TfUTt",
        "colab_type": "code",
        "outputId": "f46a4d8e-075a-44ca-9670-fbf5635a35d7",
        "colab": {
          "base_uri": "https://localhost:8080/",
          "height": 478
        }
      },
      "source": [
        "# To upload our datasets from our working directory we need to mount our drive contents to the colab environment. \n",
        "# For the code to do so you can search “mount” in code snippets or use the code given below. \n",
        "# Our entire drive contents are now mounted on colab at the location “/gdrive”.\n",
        "\n",
        "from google.colab import drive\n",
        "drive.mount('/gdrive')\n",
        "#Change current working directory to gdrive\n",
        "%cd /gdrive\n",
        "\n",
        "\n",
        "trainfile = r'/gdrive/My Drive/508-A3/newtrain_results_nan.csv'\n",
        "train_data = pd.read_csv(trainfile)\n",
        "\n",
        "testfile = r'/gdrive/My Drive/508-A3/newtest_results_nan.csv'\n",
        "test_data = pd.read_csv(testfile)\n",
        "\n",
        "print(train_data.shape)\n",
        "print(train_data.head()) \n",
        "\n",
        "print(test_data.shape)\n",
        "print(test_data.head()) "
      ],
      "execution_count": 0,
      "outputs": [
        {
          "output_type": "stream",
          "text": [
            "Go to this URL in a browser: https://accounts.google.com/o/oauth2/auth?client_id=947318989803-6bn6qk8qdgf4n4g3pfee6491hc0brc4i.apps.googleusercontent.com&redirect_uri=urn%3Aietf%3Awg%3Aoauth%3A2.0%3Aoob&scope=email%20https%3A%2F%2Fwww.googleapis.com%2Fauth%2Fdocs.test%20https%3A%2F%2Fwww.googleapis.com%2Fauth%2Fdrive%20https%3A%2F%2Fwww.googleapis.com%2Fauth%2Fdrive.photos.readonly%20https%3A%2F%2Fwww.googleapis.com%2Fauth%2Fpeopleapi.readonly&response_type=code\n",
            "\n",
            "Enter your authorization code:\n",
            "··········\n",
            "Mounted at /gdrive\n",
            "/gdrive\n",
            "(260753, 1489)\n",
            "   Unnamed: 0  QuoteNumber  ...  GeographicField64_TX  QuoteConversion_Flag\n",
            "0           0            1  ...                     0                     0\n",
            "1           1            2  ...                     0                     0\n",
            "2           2            4  ...                     0                     0\n",
            "3           3            6  ...                     1                     0\n",
            "4           4            8  ...                     0                     0\n",
            "\n",
            "[5 rows x 1489 columns]\n",
            "(173836, 1488)\n",
            "   Unnamed: 0  QuoteNumber  ...  GeographicField64_NJ  GeographicField64_TX\n",
            "0           0            3  ...                     0                     0\n",
            "1           1            5  ...                     1                     0\n",
            "2           2            7  ...                     1                     0\n",
            "3           3            9  ...                     0                     1\n",
            "4           4           10  ...                     0                     0\n",
            "\n",
            "[5 rows x 1488 columns]\n"
          ],
          "name": "stdout"
        }
      ]
    },
    {
      "cell_type": "code",
      "metadata": {
        "id": "OUBE7LTNfccW",
        "colab_type": "code",
        "colab": {}
      },
      "source": [
        "\n",
        "#Copy Train data excluding target\n",
        "X_train = train_data.iloc[:, :-1].copy()\n",
        "\n",
        "\n",
        "#Select just Target Column\n",
        "y_train = train_data.iloc[:, -1]\n"
      ],
      "execution_count": 0,
      "outputs": []
    },
    {
      "cell_type": "code",
      "metadata": {
        "id": "ouSzZTRsfnqO",
        "colab_type": "code",
        "colab": {}
      },
      "source": [
        "#CONSTRUCT DEFAULT DECISION TREE AND OBTAIN RESPECTIVE ACCURACY ==================\n",
        "clf = DecisionTreeClassifier()\n",
        "clf.fit(X_train, y_train)\n",
        "clf_predict=clf.predict(test_data)\n",
        "#print(\"accuracy Score (training) for Decision TreE:{0:6f}\".format(clf.score(X_test,y_test)))\n",
        "#print(\"Confusion Matrix for Decision Tree\")\n",
        "#print(confusion_matrix(y_test,clf_predict))\n"
      ],
      "execution_count": 0,
      "outputs": []
    },
    {
      "cell_type": "code",
      "metadata": {
        "id": "c_td6uAVym67",
        "colab_type": "code",
        "colab": {}
      },
      "source": [
        "column1=test_data[\"QuoteNumber\"]"
      ],
      "execution_count": 0,
      "outputs": []
    },
    {
      "cell_type": "code",
      "metadata": {
        "id": "v1akbmoeyGt1",
        "colab_type": "code",
        "outputId": "f4a7dd9e-21dd-48eb-d2d5-074acd4d1244",
        "colab": {
          "base_uri": "https://localhost:8080/",
          "height": 206
        }
      },
      "source": [
        "pred=pd.DataFrame(clf_predict,columns=[\"QuoteConversion_Flag\"])\n",
        "pd.concat([column1,pred],axis=1).to_csv(\"/gdrive/My Drive/508-A3/DT-Dresults.csv\", index = None)\n",
        "\n",
        "res=pd.read_csv('/gdrive/My Drive/508-A3/DT-Dresults.csv')\n",
        "res.head()"
      ],
      "execution_count": 0,
      "outputs": [
        {
          "output_type": "execute_result",
          "data": {
            "text/html": [
              "<div>\n",
              "<style scoped>\n",
              "    .dataframe tbody tr th:only-of-type {\n",
              "        vertical-align: middle;\n",
              "    }\n",
              "\n",
              "    .dataframe tbody tr th {\n",
              "        vertical-align: top;\n",
              "    }\n",
              "\n",
              "    .dataframe thead th {\n",
              "        text-align: right;\n",
              "    }\n",
              "</style>\n",
              "<table border=\"1\" class=\"dataframe\">\n",
              "  <thead>\n",
              "    <tr style=\"text-align: right;\">\n",
              "      <th></th>\n",
              "      <th>QuoteNumber</th>\n",
              "      <th>QuoteConversion_Flag</th>\n",
              "    </tr>\n",
              "  </thead>\n",
              "  <tbody>\n",
              "    <tr>\n",
              "      <th>0</th>\n",
              "      <td>3</td>\n",
              "      <td>0</td>\n",
              "    </tr>\n",
              "    <tr>\n",
              "      <th>1</th>\n",
              "      <td>5</td>\n",
              "      <td>0</td>\n",
              "    </tr>\n",
              "    <tr>\n",
              "      <th>2</th>\n",
              "      <td>7</td>\n",
              "      <td>0</td>\n",
              "    </tr>\n",
              "    <tr>\n",
              "      <th>3</th>\n",
              "      <td>9</td>\n",
              "      <td>0</td>\n",
              "    </tr>\n",
              "    <tr>\n",
              "      <th>4</th>\n",
              "      <td>10</td>\n",
              "      <td>1</td>\n",
              "    </tr>\n",
              "  </tbody>\n",
              "</table>\n",
              "</div>"
            ],
            "text/plain": [
              "   QuoteNumber  QuoteConversion_Flag\n",
              "0            3                     0\n",
              "1            5                     0\n",
              "2            7                     0\n",
              "3            9                     0\n",
              "4           10                     1"
            ]
          },
          "metadata": {
            "tags": []
          },
          "execution_count": 9
        }
      ]
    },
    {
      "cell_type": "code",
      "metadata": {
        "id": "feUn7ef5fy4s",
        "colab_type": "code",
        "colab": {}
      },
      "source": [
        "#Hyperparameter tuning done for decision tree classifier\n",
        "parameters={'min_samples_split' : range(10,50,10),'max_depth': range(1,10,2)}\n",
        "clf_random = RandomizedSearchCV(clf,parameters,n_iter=5)\n",
        "clf_random.fit(X_train, y_train)\n",
        "grid_parm=clf_random.best_params_\n",
        "print(grid_parm)\n",
        "\n",
        "#Using the parameters obtained from HyperParameterTuning in the DecisionTreeClassifier \n",
        "clf = DecisionTreeClassifier(**grid_parm)\n",
        "clf.fit(X_train,y_train)\n"
      ],
      "execution_count": 0,
      "outputs": []
    },
    {
      "cell_type": "code",
      "metadata": {
        "id": "4NQ0nf412UuV",
        "colab_type": "code",
        "outputId": "bc618050-c9bf-4451-fbdd-258234459983",
        "colab": {
          "base_uri": "https://localhost:8080/",
          "height": 206
        }
      },
      "source": [
        "clf_predict = clf.predict(test_data)\n",
        "\n",
        "pred1=pd.DataFrame(clf_predict,columns=[\"QuoteConversion_Flag\"])\n",
        "pd.concat([column1,pred1],axis=1).to_csv(\"/gdrive/My Drive/508-A3/DT-HTresults.csv\", index = None)\n",
        "\n",
        "res=pd.read_csv('/gdrive/My Drive/508-A3/DT-HTresults.csv')\n",
        "res.head()\n",
        "\n"
      ],
      "execution_count": 0,
      "outputs": [
        {
          "output_type": "execute_result",
          "data": {
            "text/html": [
              "<div>\n",
              "<style scoped>\n",
              "    .dataframe tbody tr th:only-of-type {\n",
              "        vertical-align: middle;\n",
              "    }\n",
              "\n",
              "    .dataframe tbody tr th {\n",
              "        vertical-align: top;\n",
              "    }\n",
              "\n",
              "    .dataframe thead th {\n",
              "        text-align: right;\n",
              "    }\n",
              "</style>\n",
              "<table border=\"1\" class=\"dataframe\">\n",
              "  <thead>\n",
              "    <tr style=\"text-align: right;\">\n",
              "      <th></th>\n",
              "      <th>QuoteNumber</th>\n",
              "      <th>QuoteConversion_Flag</th>\n",
              "    </tr>\n",
              "  </thead>\n",
              "  <tbody>\n",
              "    <tr>\n",
              "      <th>0</th>\n",
              "      <td>3</td>\n",
              "      <td>0</td>\n",
              "    </tr>\n",
              "    <tr>\n",
              "      <th>1</th>\n",
              "      <td>5</td>\n",
              "      <td>0</td>\n",
              "    </tr>\n",
              "    <tr>\n",
              "      <th>2</th>\n",
              "      <td>7</td>\n",
              "      <td>0</td>\n",
              "    </tr>\n",
              "    <tr>\n",
              "      <th>3</th>\n",
              "      <td>9</td>\n",
              "      <td>0</td>\n",
              "    </tr>\n",
              "    <tr>\n",
              "      <th>4</th>\n",
              "      <td>10</td>\n",
              "      <td>0</td>\n",
              "    </tr>\n",
              "  </tbody>\n",
              "</table>\n",
              "</div>"
            ],
            "text/plain": [
              "   QuoteNumber  QuoteConversion_Flag\n",
              "0            3                     0\n",
              "1            5                     0\n",
              "2            7                     0\n",
              "3            9                     0\n",
              "4           10                     0"
            ]
          },
          "metadata": {
            "tags": []
          },
          "execution_count": 15
        }
      ]
    },
    {
      "cell_type": "code",
      "metadata": {
        "id": "soefWey00iDz",
        "colab_type": "code",
        "outputId": "82c7c94b-28fe-411c-b042-46862019f857",
        "colab": {
          "base_uri": "https://localhost:8080/",
          "height": 127
        }
      },
      "source": [
        "#run cross-validation on best hyperparameters, get auc score\n",
        "clf_cv_score = cross_val_score(clf, X_train, y_train, cv=5, scoring=\"roc_auc\")\n",
        "print(\"=== All AUC Scores ===\")\n",
        "print(clf_cv_score)\n",
        "print('\\n')\n",
        "print(\"=== Mean AUC Score ===\")\n",
        "print(\"Mean AUC Score - Decision Tree: \",clf_cv_score.mean())\n"
      ],
      "execution_count": 0,
      "outputs": [
        {
          "output_type": "stream",
          "text": [
            "=== All AUC Scores ===\n",
            "[0.94369984 0.94484936 0.94827354 0.9460039  0.94640705]\n",
            "\n",
            "\n",
            "=== Mean AUC Score ===\n",
            "Mean AUC Score - Decision Tree:  0.9458467374552463\n"
          ],
          "name": "stdout"
        }
      ]
    },
    {
      "cell_type": "code",
      "metadata": {
        "id": "cuhgy0RcseYE",
        "colab_type": "code",
        "outputId": "ddf245ec-b11c-4b5d-fd6a-990de4cc4e30",
        "colab": {
          "base_uri": "https://localhost:8080/",
          "height": 206
        }
      },
      "source": [
        "#Random Forest =============================================================\n",
        "#Default mode\n",
        "rfc = RandomForestClassifier()\n",
        "rfc.fit(X_train, y_train)\n",
        "rfc_predict=rfc.predict(test_data)\n",
        "\n",
        "pred2=pd.DataFrame(rfc_predict,columns=[\"QuoteConversion_Flag\"])\n",
        "pd.concat([column1,pred2],axis=1).to_csv(\"/gdrive/My Drive/508-A3/RF-Dresults.csv\", index = None)\n",
        "\n",
        "res=pd.read_csv('/gdrive/My Drive/508-A3/RF-Dresults.csv')\n",
        "res.head()\n",
        "\n"
      ],
      "execution_count": 0,
      "outputs": [
        {
          "output_type": "execute_result",
          "data": {
            "text/html": [
              "<div>\n",
              "<style scoped>\n",
              "    .dataframe tbody tr th:only-of-type {\n",
              "        vertical-align: middle;\n",
              "    }\n",
              "\n",
              "    .dataframe tbody tr th {\n",
              "        vertical-align: top;\n",
              "    }\n",
              "\n",
              "    .dataframe thead th {\n",
              "        text-align: right;\n",
              "    }\n",
              "</style>\n",
              "<table border=\"1\" class=\"dataframe\">\n",
              "  <thead>\n",
              "    <tr style=\"text-align: right;\">\n",
              "      <th></th>\n",
              "      <th>QuoteNumber</th>\n",
              "      <th>QuoteConversion_Flag</th>\n",
              "    </tr>\n",
              "  </thead>\n",
              "  <tbody>\n",
              "    <tr>\n",
              "      <th>0</th>\n",
              "      <td>3</td>\n",
              "      <td>0</td>\n",
              "    </tr>\n",
              "    <tr>\n",
              "      <th>1</th>\n",
              "      <td>5</td>\n",
              "      <td>0</td>\n",
              "    </tr>\n",
              "    <tr>\n",
              "      <th>2</th>\n",
              "      <td>7</td>\n",
              "      <td>0</td>\n",
              "    </tr>\n",
              "    <tr>\n",
              "      <th>3</th>\n",
              "      <td>9</td>\n",
              "      <td>0</td>\n",
              "    </tr>\n",
              "    <tr>\n",
              "      <th>4</th>\n",
              "      <td>10</td>\n",
              "      <td>0</td>\n",
              "    </tr>\n",
              "  </tbody>\n",
              "</table>\n",
              "</div>"
            ],
            "text/plain": [
              "   QuoteNumber  QuoteConversion_Flag\n",
              "0            3                     0\n",
              "1            5                     0\n",
              "2            7                     0\n",
              "3            9                     0\n",
              "4           10                     0"
            ]
          },
          "metadata": {
            "tags": []
          },
          "execution_count": 19
        }
      ]
    },
    {
      "cell_type": "code",
      "metadata": {
        "id": "oEApT8zrg9rb",
        "colab_type": "code",
        "outputId": "aa900cd2-6c76-4896-a695-b1e82f07966e",
        "colab": {
          "base_uri": "https://localhost:8080/",
          "height": 146
        }
      },
      "source": [
        "#Hyperparameter tuning for random forest\n",
        "parameters={ 'n_estimators': range(50,100,20),'min_samples_split' : range(10,50,20),'max_depth': range(1,10,2)}\n",
        "rfc_random = RandomizedSearchCV(rfc,parameters,n_iter=5)\n",
        "rfc_random.fit(X_train, y_train)\n",
        "grid_parm_rfc=rfc_random.best_params_\n",
        "print(grid_parm_rfc)\n",
        "\n",
        "#contruct random forest using the best parameters\n",
        "rfc= RandomForestClassifier(**grid_parm_rfc)\n",
        "rfc.fit(X_train,y_train)\n",
        "rfc_predict = rfc.predict(test_data)\n",
        "\n",
        "pred3=pd.DataFrame(rfc_predict,columns=[\"QuoteConversion_Flag\"])\n",
        "pd.concat([column1,pred3],axis=1).to_csv(\"/gdrive/My Drive/508-A3/RF-HTresults.csv\", index = None)\n",
        "\n",
        "res=pd.read_csv('/gdrive/My Drive/508-A3/RF-HTresults.csv')\n",
        "res.head()\n",
        "\n",
        "\n",
        "#run cross-validation on best parameters, get auc score\n",
        "rfc_cv_score = cross_val_score(rfc, X_train, y_train, cv=5, scoring=\"roc_auc\")\n",
        "print(\"=== All AUC Scores ===\")\n",
        "print(rfc_cv_score)\n",
        "print('\\n')\n",
        "print(\"=== Mean AUC Score ===\")\n",
        "print(\"Mean AUC Score - Random Forest: \",rfc_cv_score.mean())\n"
      ],
      "execution_count": 0,
      "outputs": [
        {
          "output_type": "stream",
          "text": [
            "{'n_estimators': 90, 'min_samples_split': 10, 'max_depth': 9}\n",
            "=== All AUC Scores ===\n",
            "[0.92882141 0.92290742 0.92916421 0.92276619 0.92813533]\n",
            "\n",
            "\n",
            "=== Mean AUC Score ===\n",
            "Mean AUC Score - Random Forest:  0.9263589124799367\n"
          ],
          "name": "stdout"
        }
      ]
    },
    {
      "cell_type": "code",
      "metadata": {
        "id": "91eLALAohcl0",
        "colab_type": "code",
        "outputId": "1401b195-0167-43f0-8a5d-cc63b8a2ca8a",
        "colab": {
          "base_uri": "https://localhost:8080/",
          "height": 35
        }
      },
      "source": [
        "#Gradient Boosting ============================================================\n",
        "search_grid={'n_estimators':[20, 30, 50],'learning_rate':[0.01,.1]}\n",
        "abc =GradientBoostingClassifier()\n",
        "abc.fit(X_train, y_train)\n",
        "abc_predict=abc.predict(test_data)\n",
        "\n",
        "pred4=pd.DataFrame(abc_predict,columns=[\"QuoteConversion_Flag\"])\n",
        "pd.concat([column1,pred4],axis=1).to_csv(\"/gdrive/My Drive/508-A3/GB-Dresults.csv\", index = None)\n",
        "\n",
        "res=pd.read_csv('/gdrive/My Drive/508-A3/GB-Dresults.csv')\n",
        "res.head()\n",
        "\n",
        "\n",
        "#Randomized Search for hyperparameter tuning\n",
        "abc_random = RandomizedSearchCV(abc,search_grid,n_iter=5)\n",
        "abc_random.fit(X_train, y_train)\n",
        "grid_parm_abc=abc_random.best_params_\n",
        "print(grid_parm_abc)"
      ],
      "execution_count": 0,
      "outputs": [
        {
          "output_type": "stream",
          "text": [
            "{'n_estimators': 50, 'learning_rate': 0.1}\n"
          ],
          "name": "stdout"
        }
      ]
    },
    {
      "cell_type": "code",
      "metadata": {
        "id": "-Y4I06Ofht3T",
        "colab_type": "code",
        "outputId": "9e83aeb5-e1d0-4f9e-d635-ce2cf492b72a",
        "colab": {
          "base_uri": "https://localhost:8080/",
          "height": 127
        }
      },
      "source": [
        "#Construct Gradient Boosting Trees using the best parameters\n",
        "abc= GradientBoostingClassifier(**grid_parm_abc)\n",
        "abc.fit(X_train,y_train)\n",
        "abc_predict = abc.predict(test_data)\n",
        "\n",
        "pred5=pd.DataFrame(abc_predict,columns=[\"QuoteConversion_Flag\"])\n",
        "pd.concat([column1,pred5],axis=1).to_csv(\"/gdrive/My Drive/508-A3/GB-HTresults.csv\", index = None)\n",
        "\n",
        "res=pd.read_csv('/gdrive/My Drive/508-A3/GB-HTresults.csv')\n",
        "res.head()\n",
        "\n",
        "#run cross-validation on best parameters, get auc score\n",
        "abc_cv_score = cross_val_score(abc, X_train, y_train, cv=5, scoring=\"roc_auc\")\n",
        "print(\"=== All AUC Scores ===\")\n",
        "print(abc_cv_score)\n",
        "print('\\n')\n",
        "print(\"=== Mean AUC Score ===\")\n",
        "print(\"Mean AUC Score - Boosting: \",abc_cv_score.mean())\n"
      ],
      "execution_count": 0,
      "outputs": [
        {
          "output_type": "stream",
          "text": [
            "=== All AUC Scores ===\n",
            "[0.95304135 0.95175876 0.95493976 0.95320405 0.95425714]\n",
            "\n",
            "\n",
            "=== Mean AUC Score ===\n",
            "Mean AUC Score - Boosting:  0.9534402130806671\n"
          ],
          "name": "stdout"
        }
      ]
    },
    {
      "cell_type": "code",
      "metadata": {
        "id": "w9pdjPGfh2_T",
        "colab_type": "code",
        "outputId": "dd330c62-6dd9-4c9b-edb1-98fa2f383b4e",
        "colab": {
          "base_uri": "https://localhost:8080/",
          "height": 90
        }
      },
      "source": [
        "#SMOTE==============================================================================\n",
        "print(\"___________________________________________________________________\\nSMOTE\\n\")\n",
        "\n",
        "sm = SMOTE(sampling_strategy='float', ratio=0.5)\n",
        "X_res, y_res = sm.fit_resample(X_train, y_train)\n",
        "print('Resampled dataset shape %s' % Counter(y_res))\n"
      ],
      "execution_count": 0,
      "outputs": [
        {
          "output_type": "stream",
          "text": [
            "___________________________________________________________________\n",
            "SMOTE\n",
            "\n",
            "Resampled dataset shape Counter({0: 211859, 1: 105929})\n"
          ],
          "name": "stdout"
        }
      ]
    },
    {
      "cell_type": "code",
      "metadata": {
        "id": "nW12HH9qh9rQ",
        "colab_type": "code",
        "outputId": "db22a1ab-6c7d-4af8-e325-d51567284cbb",
        "colab": {
          "base_uri": "https://localhost:8080/",
          "height": 623
        }
      },
      "source": [
        "#STACKING MODELS =====================================================================\n",
        "print(\"___________________________________________________________________________________________\\nEnsemble Methods Predictions using GradientBoosting, RandomForest and Decision Tree Classifier\\n\")\n",
        "\n",
        "models = [ GradientBoostingClassifier(n_estimators= 50, learning_rate= 0.1), RandomForestClassifier(n_estimators= 90, min_samples_split= 10, max_depth= 9), DecisionTreeClassifier() ]\n",
        "      \n",
        "S_Train, S_Test = stacking(models,                   \n",
        "                           X_res, y_res, test_data,   \n",
        "                           regression=False, \n",
        "     \n",
        "                           mode='oof_pred_bag', \n",
        "       \n",
        "                           needs_proba=False,\n",
        "         \n",
        "                           save_dir=None, \n",
        "            \n",
        "                           metric=accuracy_score, \n",
        "    \n",
        "                           n_folds=3, \n",
        "                 \n",
        "                           stratified=True,\n",
        "            \n",
        "                           shuffle=True,  \n",
        "            \n",
        "                           random_state=0,    \n",
        "         \n",
        "                           verbose=2)\n"
      ],
      "execution_count": 0,
      "outputs": [
        {
          "output_type": "stream",
          "text": [
            "___________________________________________________________________________________________\n",
            "Ensemble Methods Predictions using GradientBoosting, RandomForest and Decision Tree Classifier\n",
            "\n",
            "task:         [classification]\n",
            "n_classes:    [2]\n",
            "metric:       [accuracy_score]\n",
            "mode:         [oof_pred_bag]\n",
            "n_models:     [3]\n",
            "\n",
            "model  0:     [GradientBoostingClassifier]\n",
            "    fold  0:  [0.93083168]\n",
            "    fold  1:  [0.93077504]\n",
            "    fold  2:  [0.93054716]\n",
            "    ----\n",
            "    MEAN:     [0.93071796] + [0.00012297]\n",
            "    FULL:     [0.93071796]\n",
            "\n",
            "model  1:     [RandomForestClassifier]\n",
            "    fold  0:  [0.89756443]\n",
            "    fold  1:  [0.89306146]\n",
            "    fold  2:  [0.89406012]\n",
            "    ----\n",
            "    MEAN:     [0.89489533] + [0.00193087]\n",
            "    FULL:     [0.89489534]\n",
            "\n",
            "model  2:     [DecisionTreeClassifier]\n",
            "    fold  0:  [0.91091287]\n",
            "    fold  1:  [0.91035590]\n",
            "    fold  2:  [0.91140208]\n",
            "    ----\n",
            "    MEAN:     [0.91089028] + [0.00042740]\n",
            "    FULL:     [0.91089028]\n",
            "\n"
          ],
          "name": "stdout"
        }
      ]
    },
    {
      "cell_type": "code",
      "metadata": {
        "id": "-kGCHGTaiGTb",
        "colab_type": "code",
        "outputId": "15fb8ee6-7eec-4eb3-8a05-7e05f767f9ef",
        "colab": {
          "base_uri": "https://localhost:8080/",
          "height": 206
        }
      },
      "source": [
        "#STACKING - CONTRUCT A GRADIENT BOOSTING MODEL==============================\n",
        "model = GradientBoostingClassifier()\n",
        "    \n",
        "model = model.fit(S_Train, y_res)\n",
        "y_pred = model.predict(S_Test)\n",
        "\n",
        "pred6=pd.DataFrame(y_pred,columns=[\"QuoteConversion_Flag\"])\n",
        "pd.concat([column1,pred6],axis=1).to_csv(\"/gdrive/My Drive/508-A3/SMOTE-STACKresults.csv\", index = None)\n",
        "\n",
        "res=pd.read_csv('/gdrive/My Drive/508-A3/SMOTE-STACKresults.csv')\n",
        "res.head()"
      ],
      "execution_count": 0,
      "outputs": [
        {
          "output_type": "execute_result",
          "data": {
            "text/html": [
              "<div>\n",
              "<style scoped>\n",
              "    .dataframe tbody tr th:only-of-type {\n",
              "        vertical-align: middle;\n",
              "    }\n",
              "\n",
              "    .dataframe tbody tr th {\n",
              "        vertical-align: top;\n",
              "    }\n",
              "\n",
              "    .dataframe thead th {\n",
              "        text-align: right;\n",
              "    }\n",
              "</style>\n",
              "<table border=\"1\" class=\"dataframe\">\n",
              "  <thead>\n",
              "    <tr style=\"text-align: right;\">\n",
              "      <th></th>\n",
              "      <th>QuoteNumber</th>\n",
              "      <th>QuoteConversion_Flag</th>\n",
              "    </tr>\n",
              "  </thead>\n",
              "  <tbody>\n",
              "    <tr>\n",
              "      <th>0</th>\n",
              "      <td>3</td>\n",
              "      <td>0</td>\n",
              "    </tr>\n",
              "    <tr>\n",
              "      <th>1</th>\n",
              "      <td>5</td>\n",
              "      <td>0</td>\n",
              "    </tr>\n",
              "    <tr>\n",
              "      <th>2</th>\n",
              "      <td>7</td>\n",
              "      <td>0</td>\n",
              "    </tr>\n",
              "    <tr>\n",
              "      <th>3</th>\n",
              "      <td>9</td>\n",
              "      <td>0</td>\n",
              "    </tr>\n",
              "    <tr>\n",
              "      <th>4</th>\n",
              "      <td>10</td>\n",
              "      <td>0</td>\n",
              "    </tr>\n",
              "  </tbody>\n",
              "</table>\n",
              "</div>"
            ],
            "text/plain": [
              "   QuoteNumber  QuoteConversion_Flag\n",
              "0            3                     0\n",
              "1            5                     0\n",
              "2            7                     0\n",
              "3            9                     0\n",
              "4           10                     0"
            ]
          },
          "metadata": {
            "tags": []
          },
          "execution_count": 10
        }
      ]
    },
    {
      "cell_type": "code",
      "metadata": {
        "id": "p2VeSXejwDzq",
        "colab_type": "code",
        "outputId": "a0b88c41-9724-49b7-dd91-114f57959133",
        "colab": {
          "base_uri": "https://localhost:8080/",
          "height": 206
        }
      },
      "source": [
        "#KNN==============================\n",
        "from sklearn.neighbors import KNeighborsClassifier\n",
        "model = KNeighborsClassifier(n_neighbors=5, weights='uniform', leaf_size=30, p=2, metric='minkowski')\n",
        "model = model.fit(X_train,y_train)\n",
        "y_pred = model.predict(test_data)\n",
        "\n",
        "pred7=pd.DataFrame(y_pred,columns=[\"QuoteConversion_Flag\"])\n",
        "pd.concat([column1,pred7],axis=1).to_csv(\"/gdrive/My Drive/508-A3/KNNresults.csv\", index = None)\n",
        "\n",
        "res=pd.read_csv('/gdrive/My Drive/508-A3/KNNresults.csv')\n",
        "res.head()"
      ],
      "execution_count": 0,
      "outputs": [
        {
          "output_type": "execute_result",
          "data": {
            "text/html": [
              "<div>\n",
              "<style scoped>\n",
              "    .dataframe tbody tr th:only-of-type {\n",
              "        vertical-align: middle;\n",
              "    }\n",
              "\n",
              "    .dataframe tbody tr th {\n",
              "        vertical-align: top;\n",
              "    }\n",
              "\n",
              "    .dataframe thead th {\n",
              "        text-align: right;\n",
              "    }\n",
              "</style>\n",
              "<table border=\"1\" class=\"dataframe\">\n",
              "  <thead>\n",
              "    <tr style=\"text-align: right;\">\n",
              "      <th></th>\n",
              "      <th>QuoteNumber</th>\n",
              "      <th>QuoteConversion_Flag</th>\n",
              "    </tr>\n",
              "  </thead>\n",
              "  <tbody>\n",
              "    <tr>\n",
              "      <th>0</th>\n",
              "      <td>3</td>\n",
              "      <td>0</td>\n",
              "    </tr>\n",
              "    <tr>\n",
              "      <th>1</th>\n",
              "      <td>5</td>\n",
              "      <td>0</td>\n",
              "    </tr>\n",
              "    <tr>\n",
              "      <th>2</th>\n",
              "      <td>7</td>\n",
              "      <td>0</td>\n",
              "    </tr>\n",
              "    <tr>\n",
              "      <th>3</th>\n",
              "      <td>9</td>\n",
              "      <td>0</td>\n",
              "    </tr>\n",
              "    <tr>\n",
              "      <th>4</th>\n",
              "      <td>10</td>\n",
              "      <td>0</td>\n",
              "    </tr>\n",
              "  </tbody>\n",
              "</table>\n",
              "</div>"
            ],
            "text/plain": [
              "   QuoteNumber  QuoteConversion_Flag\n",
              "0            3                     0\n",
              "1            5                     0\n",
              "2            7                     0\n",
              "3            9                     0\n",
              "4           10                     0"
            ]
          },
          "metadata": {
            "tags": []
          },
          "execution_count": 17
        }
      ]
    },
    {
      "cell_type": "code",
      "metadata": {
        "id": "Uq5Zndk4dYCs",
        "colab_type": "code",
        "outputId": "3edd61ef-b21d-410e-c6c3-86fb53f1c6a2",
        "colab": {
          "base_uri": "https://localhost:8080/",
          "height": 54
        }
      },
      "source": [
        "from sklearn import svm\n",
        "print(0)\n",
        "model =SVC(kernel='linear',max_iter=1)\n",
        "print(1)\n",
        "model = model.fit(X_train,y_train)\n",
        "print(2)\n",
        "y_pred = model.predict(test_data)\n",
        "print(3)\n",
        "\n",
        "pred8=pd.DataFrame(y_pred,columns=[\"QuoteConversion_Flag\"])\n",
        "pd.concat([column1,pred8],axis=1).to_csv(\"/gdrive/My Drive/508-A3/SVMresults.csv\", index = None)\n",
        "\n",
        "res=pd.read_csv('/gdrive/My Drive/508-A3/SVMresults.csv')\n",
        "res.head()"
      ],
      "execution_count": 0,
      "outputs": [
        {
          "output_type": "stream",
          "text": [
            "0\n",
            "1\n"
          ],
          "name": "stdout"
        }
      ]
    },
    {
      "cell_type": "code",
      "metadata": {
        "id": "C3RdlG8JdEci",
        "colab_type": "code",
        "outputId": "767a657a-7451-42ff-d039-04667cf8a8a5",
        "colab": {
          "base_uri": "https://localhost:8080/",
          "height": 280
        }
      },
      "source": [
        "print(0)\n",
        "model =MLPClassifier(solver='lbfgs', hidden_layer_sizes=(5, 2))\n",
        "print(1)\n",
        "model = model.fit(X_train,y_train)\n",
        "print(2)\n",
        "y_pred = model.predict(test_data)\n",
        "print(3)\n",
        "\n",
        "pred9=pd.DataFrame(y_pred,columns=[\"QuoteConversion_Flag\"])\n",
        "pd.concat([column1,pred9],axis=1).to_csv(\"/gdrive/My Drive/508-A3/MLPresults.csv\", index = None)\n",
        "\n",
        "res=pd.read_csv('/gdrive/My Drive/508-A3/MLPresults.csv')\n",
        "res.head()"
      ],
      "execution_count": 0,
      "outputs": [
        {
          "output_type": "stream",
          "text": [
            "0\n",
            "1\n",
            "2\n",
            "3\n"
          ],
          "name": "stdout"
        },
        {
          "output_type": "execute_result",
          "data": {
            "text/html": [
              "<div>\n",
              "<style scoped>\n",
              "    .dataframe tbody tr th:only-of-type {\n",
              "        vertical-align: middle;\n",
              "    }\n",
              "\n",
              "    .dataframe tbody tr th {\n",
              "        vertical-align: top;\n",
              "    }\n",
              "\n",
              "    .dataframe thead th {\n",
              "        text-align: right;\n",
              "    }\n",
              "</style>\n",
              "<table border=\"1\" class=\"dataframe\">\n",
              "  <thead>\n",
              "    <tr style=\"text-align: right;\">\n",
              "      <th></th>\n",
              "      <th>QuoteNumber</th>\n",
              "      <th>QuoteConversion_Flag</th>\n",
              "    </tr>\n",
              "  </thead>\n",
              "  <tbody>\n",
              "    <tr>\n",
              "      <th>0</th>\n",
              "      <td>3</td>\n",
              "      <td>1</td>\n",
              "    </tr>\n",
              "    <tr>\n",
              "      <th>1</th>\n",
              "      <td>5</td>\n",
              "      <td>1</td>\n",
              "    </tr>\n",
              "    <tr>\n",
              "      <th>2</th>\n",
              "      <td>7</td>\n",
              "      <td>1</td>\n",
              "    </tr>\n",
              "    <tr>\n",
              "      <th>3</th>\n",
              "      <td>9</td>\n",
              "      <td>1</td>\n",
              "    </tr>\n",
              "    <tr>\n",
              "      <th>4</th>\n",
              "      <td>10</td>\n",
              "      <td>1</td>\n",
              "    </tr>\n",
              "  </tbody>\n",
              "</table>\n",
              "</div>"
            ],
            "text/plain": [
              "   QuoteNumber  QuoteConversion_Flag\n",
              "0            3                     1\n",
              "1            5                     1\n",
              "2            7                     1\n",
              "3            9                     1\n",
              "4           10                     1"
            ]
          },
          "metadata": {
            "tags": []
          },
          "execution_count": 7
        }
      ]
    },
    {
      "cell_type": "code",
      "metadata": {
        "id": "C3pnlCmWen0e",
        "colab_type": "code",
        "outputId": "67c93a04-ede1-46e7-9f41-704dd8421645",
        "colab": {
          "base_uri": "https://localhost:8080/",
          "height": 280
        }
      },
      "source": [
        "print(0)\n",
        "model =MLPClassifier(solver='lbfgs', hidden_layer_sizes=(100, 10))\n",
        "print(1)\n",
        "model = model.fit(X_res,y_res)\n",
        "print(2)\n",
        "y_pred = model.predict(test_data)\n",
        "print(3)\n",
        "\n",
        "pred10=pd.DataFrame(y_pred,columns=[\"QuoteConversion_Flag\"])\n",
        "pd.concat([column1,pred10],axis=1).to_csv(\"/gdrive/My Drive/508-A3/MLP-SMOTEresults.csv\", index = None)\n",
        "\n",
        "res=pd.read_csv('/gdrive/My Drive/508-A3/MLP-SMOTEresults.csv')\n",
        "res.head()"
      ],
      "execution_count": 0,
      "outputs": [
        {
          "output_type": "stream",
          "text": [
            "0\n",
            "1\n",
            "2\n",
            "3\n"
          ],
          "name": "stdout"
        },
        {
          "output_type": "execute_result",
          "data": {
            "text/html": [
              "<div>\n",
              "<style scoped>\n",
              "    .dataframe tbody tr th:only-of-type {\n",
              "        vertical-align: middle;\n",
              "    }\n",
              "\n",
              "    .dataframe tbody tr th {\n",
              "        vertical-align: top;\n",
              "    }\n",
              "\n",
              "    .dataframe thead th {\n",
              "        text-align: right;\n",
              "    }\n",
              "</style>\n",
              "<table border=\"1\" class=\"dataframe\">\n",
              "  <thead>\n",
              "    <tr style=\"text-align: right;\">\n",
              "      <th></th>\n",
              "      <th>QuoteNumber</th>\n",
              "      <th>QuoteConversion_Flag</th>\n",
              "    </tr>\n",
              "  </thead>\n",
              "  <tbody>\n",
              "    <tr>\n",
              "      <th>0</th>\n",
              "      <td>3</td>\n",
              "      <td>0</td>\n",
              "    </tr>\n",
              "    <tr>\n",
              "      <th>1</th>\n",
              "      <td>5</td>\n",
              "      <td>0</td>\n",
              "    </tr>\n",
              "    <tr>\n",
              "      <th>2</th>\n",
              "      <td>7</td>\n",
              "      <td>0</td>\n",
              "    </tr>\n",
              "    <tr>\n",
              "      <th>3</th>\n",
              "      <td>9</td>\n",
              "      <td>0</td>\n",
              "    </tr>\n",
              "    <tr>\n",
              "      <th>4</th>\n",
              "      <td>10</td>\n",
              "      <td>0</td>\n",
              "    </tr>\n",
              "  </tbody>\n",
              "</table>\n",
              "</div>"
            ],
            "text/plain": [
              "   QuoteNumber  QuoteConversion_Flag\n",
              "0            3                     0\n",
              "1            5                     0\n",
              "2            7                     0\n",
              "3            9                     0\n",
              "4           10                     0"
            ]
          },
          "metadata": {
            "tags": []
          },
          "execution_count": 11
        }
      ]
    },
    {
      "cell_type": "code",
      "metadata": {
        "id": "9LH1iEfbgyik",
        "colab_type": "code",
        "outputId": "c1b3e86f-cf65-462d-f989-c5b28daccd3d",
        "colab": {
          "base_uri": "https://localhost:8080/",
          "height": 280
        }
      },
      "source": [
        "print(0)\n",
        "model =MLPClassifier()\n",
        "print(1)\n",
        "model = model.fit(X_res,y_res)\n",
        "print(2)\n",
        "y_pred = model.predict(test_data)\n",
        "print(3)\n",
        "\n",
        "pred11=pd.DataFrame(y_pred,columns=[\"QuoteConversion_Flag\"])\n",
        "pd.concat([column1,pred11],axis=1).to_csv(\"/gdrive/My Drive/508-A3/MLP-SMOTE-Dresults.csv\", index = None)\n",
        "\n",
        "res=pd.read_csv('/gdrive/My Drive/508-A3/MLP-SMOTE-Dresults.csv')\n",
        "res.head()"
      ],
      "execution_count": 0,
      "outputs": [
        {
          "output_type": "stream",
          "text": [
            "0\n",
            "1\n",
            "2\n",
            "3\n"
          ],
          "name": "stdout"
        },
        {
          "output_type": "execute_result",
          "data": {
            "text/html": [
              "<div>\n",
              "<style scoped>\n",
              "    .dataframe tbody tr th:only-of-type {\n",
              "        vertical-align: middle;\n",
              "    }\n",
              "\n",
              "    .dataframe tbody tr th {\n",
              "        vertical-align: top;\n",
              "    }\n",
              "\n",
              "    .dataframe thead th {\n",
              "        text-align: right;\n",
              "    }\n",
              "</style>\n",
              "<table border=\"1\" class=\"dataframe\">\n",
              "  <thead>\n",
              "    <tr style=\"text-align: right;\">\n",
              "      <th></th>\n",
              "      <th>QuoteNumber</th>\n",
              "      <th>QuoteConversion_Flag</th>\n",
              "    </tr>\n",
              "  </thead>\n",
              "  <tbody>\n",
              "    <tr>\n",
              "      <th>0</th>\n",
              "      <td>3</td>\n",
              "      <td>0</td>\n",
              "    </tr>\n",
              "    <tr>\n",
              "      <th>1</th>\n",
              "      <td>5</td>\n",
              "      <td>0</td>\n",
              "    </tr>\n",
              "    <tr>\n",
              "      <th>2</th>\n",
              "      <td>7</td>\n",
              "      <td>0</td>\n",
              "    </tr>\n",
              "    <tr>\n",
              "      <th>3</th>\n",
              "      <td>9</td>\n",
              "      <td>0</td>\n",
              "    </tr>\n",
              "    <tr>\n",
              "      <th>4</th>\n",
              "      <td>10</td>\n",
              "      <td>0</td>\n",
              "    </tr>\n",
              "  </tbody>\n",
              "</table>\n",
              "</div>"
            ],
            "text/plain": [
              "   QuoteNumber  QuoteConversion_Flag\n",
              "0            3                     0\n",
              "1            5                     0\n",
              "2            7                     0\n",
              "3            9                     0\n",
              "4           10                     0"
            ]
          },
          "metadata": {
            "tags": []
          },
          "execution_count": 12
        }
      ]
    },
    {
      "cell_type": "code",
      "metadata": {
        "id": "yrmomTKGwJsx",
        "colab_type": "code",
        "outputId": "b9da5fdd-9ce1-42aa-ea0d-4120462ecca9",
        "colab": {
          "base_uri": "https://localhost:8080/",
          "height": 90
        }
      },
      "source": [
        "#SMOTE2==============================================================================\n",
        "print(\"___________________________________________________________________\\nSMOTE\\n\")\n",
        "\n",
        "sm = SMOTE(sampling_strategy='float', ratio=0.3)\n",
        "X_res, y_res = sm.fit_resample(X_train, y_train)\n",
        "print('Resampled dataset shape %s' % Counter(y_res))"
      ],
      "execution_count": 0,
      "outputs": [
        {
          "output_type": "stream",
          "text": [
            "___________________________________________________________________\n",
            "SMOTE\n",
            "\n",
            "Resampled dataset shape Counter({0: 211859, 1: 63557})\n"
          ],
          "name": "stdout"
        }
      ]
    },
    {
      "cell_type": "code",
      "metadata": {
        "id": "CKg4i4YTiPqi",
        "colab_type": "code",
        "outputId": "94dc9072-f5e1-41cb-8729-b46371aa0638",
        "colab": {
          "base_uri": "https://localhost:8080/",
          "height": 623
        }
      },
      "source": [
        "#STACKING MODELS 2 =====================================================================\n",
        "print(\"___________________________________________________________________________________________\\nEnsemble Methods Predictions using GradientBoosting, RandomForest and Decision Tree Classifier\\n\")\n",
        "\n",
        "models = [ GradientBoostingClassifier(n_estimators= 50, learning_rate= 0.1), RandomForestClassifier(n_estimators= 90, min_samples_split= 10, max_depth= 9), DecisionTreeClassifier() ]\n",
        "      \n",
        "S_Train, S_Test = stacking(models,                   \n",
        "                           X_res, y_res, test_data,   \n",
        "                           regression=False, \n",
        "     \n",
        "                           mode='oof_pred_bag', \n",
        "       \n",
        "                           needs_proba=False,\n",
        "         \n",
        "                           save_dir=None, \n",
        "            \n",
        "                           metric=accuracy_score, \n",
        "    \n",
        "                           n_folds=3, \n",
        "                 \n",
        "                           stratified=True,\n",
        "            \n",
        "                           shuffle=True,  \n",
        "            \n",
        "                           random_state=0,    \n",
        "         \n",
        "                           verbose=2)"
      ],
      "execution_count": 0,
      "outputs": [
        {
          "output_type": "stream",
          "text": [
            "___________________________________________________________________________________________\n",
            "Ensemble Methods Predictions using GradientBoosting, RandomForest and Decision Tree Classifier\n",
            "\n",
            "task:         [classification]\n",
            "n_classes:    [2]\n",
            "metric:       [accuracy_score]\n",
            "mode:         [oof_pred_bag]\n",
            "n_models:     [3]\n",
            "\n",
            "model  0:     [GradientBoostingClassifier]\n",
            "    fold  0:  [0.92334924]\n",
            "    fold  1:  [0.92233623]\n",
            "    fold  2:  [0.92322775]\n",
            "    ----\n",
            "    MEAN:     [0.92297107] + [0.00045163]\n",
            "    FULL:     [0.92297107]\n",
            "\n",
            "model  1:     [RandomForestClassifier]\n",
            "    fold  0:  [0.87026992]\n",
            "    fold  1:  [0.87313465]\n",
            "    fold  2:  [0.87504902]\n",
            "    ----\n",
            "    MEAN:     [0.87281786] + [0.00196388]\n",
            "    FULL:     [0.87281785]\n",
            "\n",
            "model  2:     [DecisionTreeClassifier]\n",
            "    fold  0:  [0.89690216]\n",
            "    fold  1:  [0.89666253]\n",
            "    fold  2:  [0.89833776]\n",
            "    ----\n",
            "    MEAN:     [0.89730082] + [0.00073973]\n",
            "    FULL:     [0.89730081]\n",
            "\n"
          ],
          "name": "stdout"
        }
      ]
    },
    {
      "cell_type": "code",
      "metadata": {
        "id": "Q39c55RUiWq5",
        "colab_type": "code",
        "outputId": "46e4072d-6cea-4772-bc1b-33af7a069f27",
        "colab": {
          "base_uri": "https://localhost:8080/",
          "height": 146
        }
      },
      "source": [
        "#STACKING - CONTRUCT A RANDOM FOREST MODEL==============================\n",
        "#Hyperparameter tuning for random forest\n",
        "rfc = RandomForestClassifier()\n",
        "parameters={ 'n_estimators': range(50,100,10),'min_samples_split' : range(10,100,10),'max_depth': range(1,20,2)}\n",
        "rfc_random = RandomizedSearchCV(rfc,parameters,n_iter=10)\n",
        "rfc_random.fit(S_Train, y_res)\n",
        "grid_parm_rfc=rfc_random.best_params_\n",
        "print(grid_parm_rfc)\n",
        "\n",
        "#contruct random forest using the best parameters\n",
        "rfc= RandomForestClassifier(**grid_parm_rfc)\n",
        "rfc.fit(S_Train, y_res)\n",
        "rfc_predict = rfc.predict(S_Test)\n",
        "\n",
        "\n",
        "pred12=pd.DataFrame(rfc_predict,columns=[\"QuoteConversion_Flag\"])\n",
        "pd.concat([column1,pred12],axis=1).to_csv(\"/gdrive/My Drive/508-A3/SMOTE0.3-STACK-RFresults.csv\", index = None)\n",
        "\n",
        "res=pd.read_csv('/gdrive/My Drive/508-A3/SMOTE0.3-STACK-RFresults.csv')\n",
        "res.head()\n",
        "\n",
        "\n",
        "#run cross-validation on best parameters, get auc score\n",
        "rfc_cv_score = cross_val_score(rfc, S_Train, y_res, cv=5, scoring=\"roc_auc\")\n",
        "print(\"=== All AUC Scores ===\")\n",
        "print(rfc_cv_score)\n",
        "print('\\n')\n",
        "print(\"=== Mean AUC Score ===\")\n",
        "print(\"Mean AUC Score - Random Forest: \",rfc_cv_score.mean())\n"
      ],
      "execution_count": 0,
      "outputs": [
        {
          "output_type": "stream",
          "text": [
            "{'n_estimators': 80, 'min_samples_split': 60, 'max_depth': 11}\n",
            "=== All AUC Scores ===\n",
            "[0.85964    0.8594937  0.86090165 0.88079    0.9974819 ]\n",
            "\n",
            "\n",
            "=== Mean AUC Score ===\n",
            "Mean AUC Score - Random Forest:  0.8916614511491152\n"
          ],
          "name": "stdout"
        }
      ]
    },
    {
      "cell_type": "code",
      "metadata": {
        "id": "3TE6shMMB49O",
        "colab_type": "code",
        "colab": {}
      },
      "source": [
        ""
      ],
      "execution_count": 0,
      "outputs": []
    }
  ]
}